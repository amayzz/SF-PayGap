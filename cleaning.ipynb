{
 "metadata": {
  "language_info": {
   "codemirror_mode": {
    "name": "ipython",
    "version": 3
   },
   "file_extension": ".py",
   "mimetype": "text/x-python",
   "name": "python",
   "nbconvert_exporter": "python",
   "pygments_lexer": "ipython3",
   "version": "3.7.0-final"
  },
  "orig_nbformat": 2,
  "kernelspec": {
   "name": "python370jvsc74a57bd0f5c9dfabb21bd2a91b63810df81acbdc6b5e617e45414f0ef050ca96090c868f",
   "display_name": "Python 3.7.0 64-bit ('myenv': conda)"
  }
 },
 "nbformat": 4,
 "nbformat_minor": 2,
 "cells": [
  {
   "cell_type": "code",
   "execution_count": 1,
   "metadata": {},
   "outputs": [
    {
     "output_type": "stream",
     "name": "stderr",
     "text": [
      "/opt/anaconda3/envs/myenv/lib/python3.7/site-packages/IPython/core/interactiveshell.py:3166: DtypeWarning: Columns (3,4,5,6,12) have mixed types.Specify dtype option on import or set low_memory=False.\n  interactivity=interactivity, compiler=compiler, result=result)\n"
     ]
    }
   ],
   "source": [
    "import pandas as pd\n",
    "import numpy as np\n",
    "import gender_guesser.detector as gender\n",
    "data = pd.read_csv(\"Data/Salaries.csv\")\n"
   ]
  },
  {
   "cell_type": "code",
   "execution_count": 2,
   "metadata": {},
   "outputs": [],
   "source": [
    "# dropping columns with only useless or NaN values and dropping rows with names that were not provided\n",
    "data= data.drop(['Notes', 'Agency', 'Status', 'Id', 'Benefits', 'Year'], axis=1)\n",
    "data = data[data['EmployeeName'] != 'Not provided']\n",
    "\n",
    "#converting column BasePay to type float and removing BasePay that is negative\n",
    "data.dropna(subset = ['BasePay'], inplace = True)\n",
    "data[\"BasePay\"] = data.BasePay.astype(float)\n",
    "data = data[data['BasePay'] >= 0]"
   ]
  },
  {
   "cell_type": "code",
   "execution_count": 3,
   "metadata": {},
   "outputs": [
    {
     "output_type": "stream",
     "name": "stdout",
     "text": [
      "EmployeeName - 0%\nJobTitle - 0%\nBasePay - 0%\nOvertimePay - 0%\nOtherPay - 0%\nTotalPay - 0%\nTotalPayBenefits - 0%\n"
     ]
    }
   ],
   "source": [
    "# checking if there are any missing values\n",
    "for col in data.columns:\n",
    "    pct_missing = np.mean(data[col].isnull())\n",
    "    print('{} - {}%'.format(col, round(pct_missing*100)))"
   ]
  },
  {
   "cell_type": "code",
   "execution_count": 4,
   "metadata": {
    "tags": []
   },
   "outputs": [],
   "source": [
    "# splitting EmployeeName into first and last name, keeping first names as Name\n",
    "first_name = data.EmployeeName.str.split(expand=True)\n",
    "first_name = first_name.drop([1,2,3,4,5], axis=1)\n",
    "data['Name'] = first_name\n",
    "data = data.drop(['EmployeeName'], axis=1)\n",
    "\n",
    "# moving column 'Name' to front of dataframe\n",
    "data = data[['Name'] + [ col for col in data.columns if col != 'Name' ]]\n"
   ]
  },
  {
   "cell_type": "code",
   "execution_count": 5,
   "metadata": {
    "tags": []
   },
   "outputs": [],
   "source": [
    "# guessing gender based on name\n",
    "d = gender.Detector(case_sensitive=False)\n",
    "gender_list = []\n",
    "def guess_gender(name):\n",
    "    gender_list.append(d.get_gender(name))\n",
    "\n",
    "name_list = data['Name'].to_list()\n",
    "for i in name_list:\n",
    "    guess_gender(i)\n",
    "\n",
    "# creating new column in dataframe for 'Gender'\n",
    "data['Gender'] = gender_list\n"
   ]
  },
  {
   "cell_type": "code",
   "execution_count": 6,
   "metadata": {},
   "outputs": [],
   "source": [
    "# dropping ambiguous genders to ensure accuracy\n",
    "data = data[data['Gender'] != 'unknown']\n",
    "data = data[data['Gender'] != 'mostly_female']\n",
    "data = data[data['Gender'] != 'mostly_male']\n",
    "data = data[data['Gender'] != 'andy']\n"
   ]
  },
  {
   "source": [
    "# making sure there are only strictly female and strictly male names\n",
    "data[\"Gender\"].value_counts()"
   ],
   "cell_type": "code",
   "metadata": {},
   "execution_count": 7,
   "outputs": [
    {
     "output_type": "execute_result",
     "data": {
      "text/plain": [
       "male      69552\n",
       "female    50236\n",
       "Name: Gender, dtype: int64"
      ]
     },
     "metadata": {},
     "execution_count": 7
    }
   ]
  },
  {
   "cell_type": "code",
   "execution_count": 8,
   "metadata": {},
   "outputs": [
    {
     "output_type": "execute_result",
     "data": {
      "text/plain": [
       "Transit Operator                      5327\n",
       "Special Nurse                         3305\n",
       "Registered Nurse                      2763\n",
       "Police Officer 3                      2198\n",
       "Firefighter                           2103\n",
       "                                      ... \n",
       "ELECTRICAL LINE WORKER                  10\n",
       "Senior Museum Registrar                 10\n",
       "ASSISTANT STOREKEEPER                   10\n",
       "APPRENTICE GARDENER                     10\n",
       "PRINCIPAL ENVIRONMENTAL SPECIALIST      10\n",
       "Name: JobTitle, Length: 1131, dtype: int64"
      ]
     },
     "metadata": {},
     "execution_count": 8
    }
   ],
   "source": [
    "# dropping job titles with less than 50 occurances\n",
    "counts = data['JobTitle'].value_counts()\n",
    "\n",
    "data = data[~data['JobTitle'].isin(counts[counts < 10].index)]\n",
    "\n",
    "data['JobTitle'].value_counts()"
   ]
  },
  {
   "cell_type": "code",
   "execution_count": 9,
   "metadata": {},
   "outputs": [
    {
     "output_type": "stream",
     "name": "stdout",
     "text": [
      "the average total pay for women is: $ 66767.29559030477\nthe average total pay for men is: $ 84176.39938818566\n"
     ]
    }
   ],
   "source": [
    "# find average total pay based on gender\n",
    "female_salary = data[data['Gender'] =='female']\n",
    "male_salary = data[data['Gender'] == 'male' ]\n",
    "\n",
    "print('the average total pay for women is: $', female_salary['TotalPay'].mean())\n",
    "\n",
    "print('the average total pay for men is: $',male_salary['TotalPay'].mean())\n",
    "\n"
   ]
  },
  {
   "cell_type": "code",
   "execution_count": 10,
   "metadata": {
    "tags": []
   },
   "outputs": [
    {
     "output_type": "execute_result",
     "data": {
      "text/plain": [
       "                                       BasePay       TotalPay\n",
       "JobTitle                                                     \n",
       "ACCOUNT CLERK                     42556.832391   43441.577391\n",
       "ACCOUNTANT INTERN                 22107.143333   22424.294167\n",
       "ADMINISTRATIVE ANALYST            64312.000513   64543.497949\n",
       "ADMINISTRATIVE ENGINEER          129755.206667  129755.206667\n",
       "AIRPORT COMMUNICATIONS OPERATOR   68245.566000   82763.087333"
      ],
      "text/html": "<div>\n<style scoped>\n    .dataframe tbody tr th:only-of-type {\n        vertical-align: middle;\n    }\n\n    .dataframe tbody tr th {\n        vertical-align: top;\n    }\n\n    .dataframe thead th {\n        text-align: right;\n    }\n</style>\n<table border=\"1\" class=\"dataframe\">\n  <thead>\n    <tr style=\"text-align: right;\">\n      <th></th>\n      <th>BasePay</th>\n      <th>TotalPay</th>\n    </tr>\n    <tr>\n      <th>JobTitle</th>\n      <th></th>\n      <th></th>\n    </tr>\n  </thead>\n  <tbody>\n    <tr>\n      <th>ACCOUNT CLERK</th>\n      <td>42556.832391</td>\n      <td>43441.577391</td>\n    </tr>\n    <tr>\n      <th>ACCOUNTANT INTERN</th>\n      <td>22107.143333</td>\n      <td>22424.294167</td>\n    </tr>\n    <tr>\n      <th>ADMINISTRATIVE ANALYST</th>\n      <td>64312.000513</td>\n      <td>64543.497949</td>\n    </tr>\n    <tr>\n      <th>ADMINISTRATIVE ENGINEER</th>\n      <td>129755.206667</td>\n      <td>129755.206667</td>\n    </tr>\n    <tr>\n      <th>AIRPORT COMMUNICATIONS OPERATOR</th>\n      <td>68245.566000</td>\n      <td>82763.087333</td>\n    </tr>\n  </tbody>\n</table>\n</div>"
     },
     "metadata": {},
     "execution_count": 10
    }
   ],
   "source": [
    "# creating separate dfs according to gender, grouped by Job Title\n",
    "# new dfs only include BasePay and Total Pay\n",
    "f_job_salaries = female_salary.groupby(['JobTitle']).mean()\n",
    "f_job_salaries = f_job_salaries.drop(['TotalPayBenefits'], axis = 1)\n",
    "\n",
    "\n",
    "\n",
    "m_job_salaries = male_salary.groupby(['JobTitle']).mean()\n",
    "m_job_salaries = m_job_salaries.drop(['TotalPayBenefits'], axis = 1)\n",
    "\n",
    "m_job_salaries.head()\n",
    "f_job_salaries.head()"
   ]
  },
  {
   "cell_type": "code",
   "execution_count": 11,
   "metadata": {},
   "outputs": [
    {
     "output_type": "execute_result",
     "data": {
      "text/plain": [
       "                                 FemaleBasePay  FemaleTotalPay    MaleBasePay  \\\n",
       "JobTitle                                                                        \n",
       "ACCOUNT CLERK                     42556.832391    43441.577391   46213.987333   \n",
       "ACCOUNTANT INTERN                 22107.143333    22424.294167   30117.481667   \n",
       "ADMINISTRATIVE ANALYST            64312.000513    64543.497949   64920.955294   \n",
       "ADMINISTRATIVE ENGINEER          129755.206667   129755.206667  117123.712857   \n",
       "AIRPORT COMMUNICATIONS OPERATOR   68245.566000    82763.087333   64496.372500   \n",
       "\n",
       "                                  MaleTotalPay  \n",
       "JobTitle                                        \n",
       "ACCOUNT CLERK                     46650.336667  \n",
       "ACCOUNTANT INTERN                 30486.101111  \n",
       "ADMINISTRATIVE ANALYST            65811.110000  \n",
       "ADMINISTRATIVE ENGINEER          127192.668571  \n",
       "AIRPORT COMMUNICATIONS OPERATOR   72506.053750  "
      ],
      "text/html": "<div>\n<style scoped>\n    .dataframe tbody tr th:only-of-type {\n        vertical-align: middle;\n    }\n\n    .dataframe tbody tr th {\n        vertical-align: top;\n    }\n\n    .dataframe thead th {\n        text-align: right;\n    }\n</style>\n<table border=\"1\" class=\"dataframe\">\n  <thead>\n    <tr style=\"text-align: right;\">\n      <th></th>\n      <th>FemaleBasePay</th>\n      <th>FemaleTotalPay</th>\n      <th>MaleBasePay</th>\n      <th>MaleTotalPay</th>\n    </tr>\n    <tr>\n      <th>JobTitle</th>\n      <th></th>\n      <th></th>\n      <th></th>\n      <th></th>\n    </tr>\n  </thead>\n  <tbody>\n    <tr>\n      <th>ACCOUNT CLERK</th>\n      <td>42556.832391</td>\n      <td>43441.577391</td>\n      <td>46213.987333</td>\n      <td>46650.336667</td>\n    </tr>\n    <tr>\n      <th>ACCOUNTANT INTERN</th>\n      <td>22107.143333</td>\n      <td>22424.294167</td>\n      <td>30117.481667</td>\n      <td>30486.101111</td>\n    </tr>\n    <tr>\n      <th>ADMINISTRATIVE ANALYST</th>\n      <td>64312.000513</td>\n      <td>64543.497949</td>\n      <td>64920.955294</td>\n      <td>65811.110000</td>\n    </tr>\n    <tr>\n      <th>ADMINISTRATIVE ENGINEER</th>\n      <td>129755.206667</td>\n      <td>129755.206667</td>\n      <td>117123.712857</td>\n      <td>127192.668571</td>\n    </tr>\n    <tr>\n      <th>AIRPORT COMMUNICATIONS OPERATOR</th>\n      <td>68245.566000</td>\n      <td>82763.087333</td>\n      <td>64496.372500</td>\n      <td>72506.053750</td>\n    </tr>\n  </tbody>\n</table>\n</div>"
     },
     "metadata": {},
     "execution_count": 11
    }
   ],
   "source": [
    "\n",
    "salary_by_gender = pd.merge(f_job_salaries, m_job_salaries, on='JobTitle')\n",
    "salary_by_gender.columns = ['FemaleBasePay', 'FemaleTotalPay', 'MaleBasePay', 'MaleTotalPay']\n",
    "salary_by_gender.head()"
   ]
  },
  {
   "cell_type": "code",
   "execution_count": 12,
   "metadata": {},
   "outputs": [
    {
     "output_type": "execute_result",
     "data": {
      "text/plain": [
       "                                 FemaleBasePay  FemaleTotalPay    MaleBasePay  \\\n",
       "JobTitle                                                                        \n",
       "ACCOUNT CLERK                     42556.832391    43441.577391   46213.987333   \n",
       "ACCOUNTANT INTERN                 22107.143333    22424.294167   30117.481667   \n",
       "ADMINISTRATIVE ANALYST            64312.000513    64543.497949   64920.955294   \n",
       "ADMINISTRATIVE ENGINEER          129755.206667   129755.206667  117123.712857   \n",
       "AIRPORT COMMUNICATIONS OPERATOR   68245.566000    82763.087333   64496.372500   \n",
       "\n",
       "                                  MaleTotalPay   BasePayDiff  TotalPayDiff  \n",
       "JobTitle                                                                    \n",
       "ACCOUNT CLERK                     46650.336667   3657.154942   3208.759275  \n",
       "ACCOUNTANT INTERN                 30486.101111   8010.338333   8061.806944  \n",
       "ADMINISTRATIVE ANALYST            65811.110000    608.954781   1267.612051  \n",
       "ADMINISTRATIVE ENGINEER          127192.668571 -12631.493810  -2562.538095  \n",
       "AIRPORT COMMUNICATIONS OPERATOR   72506.053750  -3749.193500 -10257.033583  "
      ],
      "text/html": "<div>\n<style scoped>\n    .dataframe tbody tr th:only-of-type {\n        vertical-align: middle;\n    }\n\n    .dataframe tbody tr th {\n        vertical-align: top;\n    }\n\n    .dataframe thead th {\n        text-align: right;\n    }\n</style>\n<table border=\"1\" class=\"dataframe\">\n  <thead>\n    <tr style=\"text-align: right;\">\n      <th></th>\n      <th>FemaleBasePay</th>\n      <th>FemaleTotalPay</th>\n      <th>MaleBasePay</th>\n      <th>MaleTotalPay</th>\n      <th>BasePayDiff</th>\n      <th>TotalPayDiff</th>\n    </tr>\n    <tr>\n      <th>JobTitle</th>\n      <th></th>\n      <th></th>\n      <th></th>\n      <th></th>\n      <th></th>\n      <th></th>\n    </tr>\n  </thead>\n  <tbody>\n    <tr>\n      <th>ACCOUNT CLERK</th>\n      <td>42556.832391</td>\n      <td>43441.577391</td>\n      <td>46213.987333</td>\n      <td>46650.336667</td>\n      <td>3657.154942</td>\n      <td>3208.759275</td>\n    </tr>\n    <tr>\n      <th>ACCOUNTANT INTERN</th>\n      <td>22107.143333</td>\n      <td>22424.294167</td>\n      <td>30117.481667</td>\n      <td>30486.101111</td>\n      <td>8010.338333</td>\n      <td>8061.806944</td>\n    </tr>\n    <tr>\n      <th>ADMINISTRATIVE ANALYST</th>\n      <td>64312.000513</td>\n      <td>64543.497949</td>\n      <td>64920.955294</td>\n      <td>65811.110000</td>\n      <td>608.954781</td>\n      <td>1267.612051</td>\n    </tr>\n    <tr>\n      <th>ADMINISTRATIVE ENGINEER</th>\n      <td>129755.206667</td>\n      <td>129755.206667</td>\n      <td>117123.712857</td>\n      <td>127192.668571</td>\n      <td>-12631.493810</td>\n      <td>-2562.538095</td>\n    </tr>\n    <tr>\n      <th>AIRPORT COMMUNICATIONS OPERATOR</th>\n      <td>68245.566000</td>\n      <td>82763.087333</td>\n      <td>64496.372500</td>\n      <td>72506.053750</td>\n      <td>-3749.193500</td>\n      <td>-10257.033583</td>\n    </tr>\n  </tbody>\n</table>\n</div>"
     },
     "metadata": {},
     "execution_count": 12
    }
   ],
   "source": [
    "# merging the two dfs together to compare pay differenes between gender for the same job\n",
    "salary_by_gender['BasePayDiff']= salary_by_gender['MaleBasePay'] - salary_by_gender['FemaleBasePay']\n",
    "salary_by_gender['TotalPayDiff'] = salary_by_gender['MaleTotalPay'] - salary_by_gender['FemaleTotalPay']\n",
    "salary_by_gender.head()\n",
    "\n"
   ]
  },
  {
   "cell_type": "code",
   "execution_count": 13,
   "metadata": {},
   "outputs": [],
   "source": [
    "# salary_by_gender.to_csv('salary_by_gender.csv')\n",
    "# female_salary.to_csv('female_salary.csv')\n",
    "# male_salary.to_csv('male_salary.csv')"
   ]
  }
 ]
}