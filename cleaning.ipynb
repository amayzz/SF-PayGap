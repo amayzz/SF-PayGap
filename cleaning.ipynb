{
 "metadata": {
  "language_info": {
   "codemirror_mode": {
    "name": "ipython",
    "version": 3
   },
   "file_extension": ".py",
   "mimetype": "text/x-python",
   "name": "python",
   "nbconvert_exporter": "python",
   "pygments_lexer": "ipython3",
   "version": "3.7.0"
  },
  "orig_nbformat": 2,
  "kernelspec": {
   "name": "python370jvsc74a57bd0f5c9dfabb21bd2a91b63810df81acbdc6b5e617e45414f0ef050ca96090c868f",
   "display_name": "Python 3.7.0 64-bit ('myenv': conda)"
  }
 },
 "nbformat": 4,
 "nbformat_minor": 2,
 "cells": [
  {
   "cell_type": "code",
   "execution_count": 38,
   "metadata": {},
   "outputs": [
    {
     "output_type": "stream",
     "name": "stderr",
     "text": [
      "/opt/anaconda3/envs/myenv/lib/python3.7/site-packages/IPython/core/interactiveshell.py:3166: DtypeWarning: Columns (3,4,5,6,12) have mixed types.Specify dtype option on import or set low_memory=False.\n  interactivity=interactivity, compiler=compiler, result=result)\n"
     ]
    },
    {
     "output_type": "execute_result",
     "data": {
      "text/plain": [
       "   Id        EmployeeName                                        JobTitle  \\\n",
       "0   1      NATHANIEL FORD  GENERAL MANAGER-METROPOLITAN TRANSIT AUTHORITY   \n",
       "1   2        GARY JIMENEZ                 CAPTAIN III (POLICE DEPARTMENT)   \n",
       "2   3      ALBERT PARDINI                 CAPTAIN III (POLICE DEPARTMENT)   \n",
       "3   4   CHRISTOPHER CHONG            WIRE ROPE CABLE MAINTENANCE MECHANIC   \n",
       "4   5     PATRICK GARDNER    DEPUTY CHIEF OF DEPARTMENT,(FIRE DEPARTMENT)   \n",
       "5   6      DAVID SULLIVAN                       ASSISTANT DEPUTY CHIEF II   \n",
       "6   7           ALSON LEE              BATTALION CHIEF, (FIRE DEPARTMENT)   \n",
       "7   8       DAVID KUSHNER                  DEPUTY DIRECTOR OF INVESTMENTS   \n",
       "8   9      MICHAEL MORRIS              BATTALION CHIEF, (FIRE DEPARTMENT)   \n",
       "9  10  JOANNE HAYES-WHITE          CHIEF OF DEPARTMENT, (FIRE DEPARTMENT)   \n",
       "\n",
       "     BasePay OvertimePay   OtherPay Benefits   TotalPay  TotalPayBenefits  \\\n",
       "0  167411.18         0.0  400184.25      NaN  567595.43         567595.43   \n",
       "1  155966.02   245131.88  137811.38      NaN  538909.28         538909.28   \n",
       "2  212739.13   106088.18    16452.6      NaN  335279.91         335279.91   \n",
       "3    77916.0    56120.71   198306.9      NaN  332343.61         332343.61   \n",
       "4   134401.6      9737.0  182234.59      NaN  326373.19         326373.19   \n",
       "5   118602.0      8601.0  189082.74      NaN  316285.74         316285.74   \n",
       "6   92492.01     89062.9  134426.14      NaN  315981.05         315981.05   \n",
       "7  256576.96         0.0    51322.5      NaN  307899.46         307899.46   \n",
       "8  176932.64    86362.68   40132.23      NaN  303427.55         303427.55   \n",
       "9   285262.0         0.0   17115.73      NaN  302377.73         302377.73   \n",
       "\n",
       "   Year  Notes         Agency Status  \n",
       "0  2011    NaN  San Francisco    NaN  \n",
       "1  2011    NaN  San Francisco    NaN  \n",
       "2  2011    NaN  San Francisco    NaN  \n",
       "3  2011    NaN  San Francisco    NaN  \n",
       "4  2011    NaN  San Francisco    NaN  \n",
       "5  2011    NaN  San Francisco    NaN  \n",
       "6  2011    NaN  San Francisco    NaN  \n",
       "7  2011    NaN  San Francisco    NaN  \n",
       "8  2011    NaN  San Francisco    NaN  \n",
       "9  2011    NaN  San Francisco    NaN  "
      ],
      "text/html": "<div>\n<style scoped>\n    .dataframe tbody tr th:only-of-type {\n        vertical-align: middle;\n    }\n\n    .dataframe tbody tr th {\n        vertical-align: top;\n    }\n\n    .dataframe thead th {\n        text-align: right;\n    }\n</style>\n<table border=\"1\" class=\"dataframe\">\n  <thead>\n    <tr style=\"text-align: right;\">\n      <th></th>\n      <th>Id</th>\n      <th>EmployeeName</th>\n      <th>JobTitle</th>\n      <th>BasePay</th>\n      <th>OvertimePay</th>\n      <th>OtherPay</th>\n      <th>Benefits</th>\n      <th>TotalPay</th>\n      <th>TotalPayBenefits</th>\n      <th>Year</th>\n      <th>Notes</th>\n      <th>Agency</th>\n      <th>Status</th>\n    </tr>\n  </thead>\n  <tbody>\n    <tr>\n      <th>0</th>\n      <td>1</td>\n      <td>NATHANIEL FORD</td>\n      <td>GENERAL MANAGER-METROPOLITAN TRANSIT AUTHORITY</td>\n      <td>167411.18</td>\n      <td>0.0</td>\n      <td>400184.25</td>\n      <td>NaN</td>\n      <td>567595.43</td>\n      <td>567595.43</td>\n      <td>2011</td>\n      <td>NaN</td>\n      <td>San Francisco</td>\n      <td>NaN</td>\n    </tr>\n    <tr>\n      <th>1</th>\n      <td>2</td>\n      <td>GARY JIMENEZ</td>\n      <td>CAPTAIN III (POLICE DEPARTMENT)</td>\n      <td>155966.02</td>\n      <td>245131.88</td>\n      <td>137811.38</td>\n      <td>NaN</td>\n      <td>538909.28</td>\n      <td>538909.28</td>\n      <td>2011</td>\n      <td>NaN</td>\n      <td>San Francisco</td>\n      <td>NaN</td>\n    </tr>\n    <tr>\n      <th>2</th>\n      <td>3</td>\n      <td>ALBERT PARDINI</td>\n      <td>CAPTAIN III (POLICE DEPARTMENT)</td>\n      <td>212739.13</td>\n      <td>106088.18</td>\n      <td>16452.6</td>\n      <td>NaN</td>\n      <td>335279.91</td>\n      <td>335279.91</td>\n      <td>2011</td>\n      <td>NaN</td>\n      <td>San Francisco</td>\n      <td>NaN</td>\n    </tr>\n    <tr>\n      <th>3</th>\n      <td>4</td>\n      <td>CHRISTOPHER CHONG</td>\n      <td>WIRE ROPE CABLE MAINTENANCE MECHANIC</td>\n      <td>77916.0</td>\n      <td>56120.71</td>\n      <td>198306.9</td>\n      <td>NaN</td>\n      <td>332343.61</td>\n      <td>332343.61</td>\n      <td>2011</td>\n      <td>NaN</td>\n      <td>San Francisco</td>\n      <td>NaN</td>\n    </tr>\n    <tr>\n      <th>4</th>\n      <td>5</td>\n      <td>PATRICK GARDNER</td>\n      <td>DEPUTY CHIEF OF DEPARTMENT,(FIRE DEPARTMENT)</td>\n      <td>134401.6</td>\n      <td>9737.0</td>\n      <td>182234.59</td>\n      <td>NaN</td>\n      <td>326373.19</td>\n      <td>326373.19</td>\n      <td>2011</td>\n      <td>NaN</td>\n      <td>San Francisco</td>\n      <td>NaN</td>\n    </tr>\n    <tr>\n      <th>5</th>\n      <td>6</td>\n      <td>DAVID SULLIVAN</td>\n      <td>ASSISTANT DEPUTY CHIEF II</td>\n      <td>118602.0</td>\n      <td>8601.0</td>\n      <td>189082.74</td>\n      <td>NaN</td>\n      <td>316285.74</td>\n      <td>316285.74</td>\n      <td>2011</td>\n      <td>NaN</td>\n      <td>San Francisco</td>\n      <td>NaN</td>\n    </tr>\n    <tr>\n      <th>6</th>\n      <td>7</td>\n      <td>ALSON LEE</td>\n      <td>BATTALION CHIEF, (FIRE DEPARTMENT)</td>\n      <td>92492.01</td>\n      <td>89062.9</td>\n      <td>134426.14</td>\n      <td>NaN</td>\n      <td>315981.05</td>\n      <td>315981.05</td>\n      <td>2011</td>\n      <td>NaN</td>\n      <td>San Francisco</td>\n      <td>NaN</td>\n    </tr>\n    <tr>\n      <th>7</th>\n      <td>8</td>\n      <td>DAVID KUSHNER</td>\n      <td>DEPUTY DIRECTOR OF INVESTMENTS</td>\n      <td>256576.96</td>\n      <td>0.0</td>\n      <td>51322.5</td>\n      <td>NaN</td>\n      <td>307899.46</td>\n      <td>307899.46</td>\n      <td>2011</td>\n      <td>NaN</td>\n      <td>San Francisco</td>\n      <td>NaN</td>\n    </tr>\n    <tr>\n      <th>8</th>\n      <td>9</td>\n      <td>MICHAEL MORRIS</td>\n      <td>BATTALION CHIEF, (FIRE DEPARTMENT)</td>\n      <td>176932.64</td>\n      <td>86362.68</td>\n      <td>40132.23</td>\n      <td>NaN</td>\n      <td>303427.55</td>\n      <td>303427.55</td>\n      <td>2011</td>\n      <td>NaN</td>\n      <td>San Francisco</td>\n      <td>NaN</td>\n    </tr>\n    <tr>\n      <th>9</th>\n      <td>10</td>\n      <td>JOANNE HAYES-WHITE</td>\n      <td>CHIEF OF DEPARTMENT, (FIRE DEPARTMENT)</td>\n      <td>285262.0</td>\n      <td>0.0</td>\n      <td>17115.73</td>\n      <td>NaN</td>\n      <td>302377.73</td>\n      <td>302377.73</td>\n      <td>2011</td>\n      <td>NaN</td>\n      <td>San Francisco</td>\n      <td>NaN</td>\n    </tr>\n  </tbody>\n</table>\n</div>"
     },
     "metadata": {},
     "execution_count": 38
    }
   ],
   "source": [
    "import pandas as pd\n",
    "import numpy as np\n",
    "import gender_guesser.detector as gender\n",
    "data = pd.read_csv(\"Data/Salaries.csv\")\n",
    "\n",
    "data.head(10)"
   ]
  },
  {
   "cell_type": "code",
   "execution_count": 39,
   "metadata": {},
   "outputs": [],
   "source": [
    "# dropping columns with only useless or NaN values and dropping rows with names that were not provided\n",
    "data= data.drop(['Notes', 'Agency', 'Status', 'Id', 'Benefits', 'Year'], axis=1)\n",
    "data = data[data['EmployeeName'] != 'Not provided']\n",
    "\n",
    "#converting column BasePay to type float and removing BasePay that is negative\n",
    "data.dropna(subset = ['BasePay'], inplace = True)\n",
    "data[\"BasePay\"] = data.BasePay.astype(float)\n",
    "data = data[data['BasePay'] >= 0]"
   ]
  },
  {
   "cell_type": "code",
   "execution_count": 40,
   "metadata": {},
   "outputs": [
    {
     "output_type": "stream",
     "name": "stdout",
     "text": [
      "EmployeeName - 0%\nJobTitle - 0%\nBasePay - 0%\nOvertimePay - 0%\nOtherPay - 0%\nTotalPay - 0%\nTotalPayBenefits - 0%\n"
     ]
    }
   ],
   "source": [
    "# checking if there are any missing values\n",
    "for col in data.columns:\n",
    "    pct_missing = np.mean(data[col].isnull())\n",
    "    print('{} - {}%'.format(col, round(pct_missing*100)))"
   ]
  },
  {
   "cell_type": "code",
   "execution_count": 41,
   "metadata": {
    "tags": []
   },
   "outputs": [],
   "source": [
    "# splitting EmployeeName into first and last name, keeping first names as Name\n",
    "first_name = data.EmployeeName.str.split(expand=True)\n",
    "first_name = first_name.drop([1,2,3,4,5], axis=1)\n",
    "data['Name'] = first_name\n",
    "data = data.drop(['EmployeeName'], axis=1)\n",
    "\n",
    "# moving column 'Name' to front of dataframe\n",
    "data = data[['Name'] + [ col for col in data.columns if col != 'Name' ]]\n"
   ]
  },
  {
   "cell_type": "code",
   "execution_count": 42,
   "metadata": {
    "tags": []
   },
   "outputs": [],
   "source": [
    "# guessing gender based on name\n",
    "d = gender.Detector(case_sensitive=False)\n",
    "gender_list = []\n",
    "def guess_gender(name):\n",
    "    gender_list.append(d.get_gender(name))\n",
    "\n",
    "name_list = data['Name'].to_list()\n",
    "for i in name_list:\n",
    "    guess_gender(i)\n",
    "\n",
    "# creating new column in dataframe for 'Gender'\n",
    "data['Gender'] = gender_list\n",
    "\n",
    "    "
   ]
  },
  {
   "cell_type": "code",
   "execution_count": 43,
   "metadata": {},
   "outputs": [],
   "source": [
    "# dropping ambiguous genders to ensure accuracy\n",
    "data = data[data['Gender'] != 'unknown']\n",
    "data = data[data['Gender'] != 'mostly_female']\n",
    "data = data[data['Gender'] != 'mostly_male']\n",
    "data = data[data['Gender'] != 'andy']\n"
   ]
  },
  {
   "source": [
    "# making sure there are only strictly female and strictly male names\n",
    "data[\"Gender\"].value_counts()"
   ],
   "cell_type": "code",
   "metadata": {},
   "execution_count": 44,
   "outputs": [
    {
     "output_type": "execute_result",
     "data": {
      "text/plain": [
       "male      69552\n",
       "female    50236\n",
       "Name: Gender, dtype: int64"
      ]
     },
     "metadata": {},
     "execution_count": 44
    }
   ]
  },
  {
   "cell_type": "code",
   "execution_count": 45,
   "metadata": {},
   "outputs": [
    {
     "output_type": "execute_result",
     "data": {
      "text/plain": [
       "Transit Operator            5327\n",
       "Special Nurse               3305\n",
       "Registered Nurse            2763\n",
       "Police Officer 3            2198\n",
       "Firefighter                 2103\n",
       "                            ... \n",
       "HEALTH WORKER I               50\n",
       "TESTING TECHNICIAN            50\n",
       "Social Work Supervisor        50\n",
       "Utility Analyst               50\n",
       "IS Prg Analyst-Principal      50\n",
       "Name: JobTitle, Length: 415, dtype: int64"
      ]
     },
     "metadata": {},
     "execution_count": 45
    }
   ],
   "source": [
    "# dropping job titles with less than 50 occurances\n",
    "counts = data['JobTitle'].value_counts()\n",
    "\n",
    "data = data[~data['JobTitle'].isin(counts[counts < 50].index)]\n",
    "\n",
    "data['JobTitle'].value_counts()"
   ]
  },
  {
   "cell_type": "code",
   "execution_count": 46,
   "metadata": {},
   "outputs": [
    {
     "output_type": "stream",
     "name": "stdout",
     "text": [
      "the average total pay for women is: $ 65671.19191140805\nthe average total pay for men is: $ 83809.87672083464\n"
     ]
    }
   ],
   "source": [
    "# find average total pay based on gender\n",
    "female_salary = data[data['Gender'] =='female']\n",
    "male_salary = data[data['Gender'] == 'male' ]\n",
    "\n",
    "print('the average total pay for women is: $', female_salary['TotalPay'].mean())\n",
    "\n",
    "print('the average total pay for men is: $',male_salary['TotalPay'].mean())\n",
    "\n"
   ]
  },
  {
   "cell_type": "code",
   "execution_count": 47,
   "metadata": {
    "tags": []
   },
   "outputs": [
    {
     "output_type": "execute_result",
     "data": {
      "text/plain": [
       "                                   BasePay      TotalPay\n",
       "JobTitle                                                \n",
       "ACCOUNT CLERK                 42556.832391  43441.577391\n",
       "ADMINISTRATIVE ANALYST        64312.000513  64543.497949\n",
       "AIRPORT POLICE SERVICES AIDE  49780.150345  57998.895000\n",
       "ASR Senior Office Specialist  60577.726512  62563.650930\n",
       "ASSISTANT ENGINEER            80079.541111  80689.304815"
      ],
      "text/html": "<div>\n<style scoped>\n    .dataframe tbody tr th:only-of-type {\n        vertical-align: middle;\n    }\n\n    .dataframe tbody tr th {\n        vertical-align: top;\n    }\n\n    .dataframe thead th {\n        text-align: right;\n    }\n</style>\n<table border=\"1\" class=\"dataframe\">\n  <thead>\n    <tr style=\"text-align: right;\">\n      <th></th>\n      <th>BasePay</th>\n      <th>TotalPay</th>\n    </tr>\n    <tr>\n      <th>JobTitle</th>\n      <th></th>\n      <th></th>\n    </tr>\n  </thead>\n  <tbody>\n    <tr>\n      <th>ACCOUNT CLERK</th>\n      <td>42556.832391</td>\n      <td>43441.577391</td>\n    </tr>\n    <tr>\n      <th>ADMINISTRATIVE ANALYST</th>\n      <td>64312.000513</td>\n      <td>64543.497949</td>\n    </tr>\n    <tr>\n      <th>AIRPORT POLICE SERVICES AIDE</th>\n      <td>49780.150345</td>\n      <td>57998.895000</td>\n    </tr>\n    <tr>\n      <th>ASR Senior Office Specialist</th>\n      <td>60577.726512</td>\n      <td>62563.650930</td>\n    </tr>\n    <tr>\n      <th>ASSISTANT ENGINEER</th>\n      <td>80079.541111</td>\n      <td>80689.304815</td>\n    </tr>\n  </tbody>\n</table>\n</div>"
     },
     "metadata": {},
     "execution_count": 47
    }
   ],
   "source": [
    "# creating separate dfs according to gender, grouped by Job Title\n",
    "# new dfs only include BasePay and Total Pay\n",
    "f_job_salaries = female_salary.groupby(['JobTitle']).mean()\n",
    "f_job_salaries = f_job_salaries.drop(['TotalPayBenefits'], axis = 1)\n",
    "\n",
    "\n",
    "\n",
    "m_job_salaries = male_salary.groupby(['JobTitle']).mean()\n",
    "m_job_salaries = m_job_salaries.drop(['TotalPayBenefits'], axis = 1)\n",
    "\n",
    "m_job_salaries.head()\n",
    "f_job_salaries.head()"
   ]
  },
  {
   "cell_type": "code",
   "execution_count": 48,
   "metadata": {},
   "outputs": [
    {
     "output_type": "execute_result",
     "data": {
      "text/plain": [
       "                              FemaleBasePay  FemaleTotalPay   MaleBasePay  \\\n",
       "JobTitle                                                                    \n",
       "ACCOUNT CLERK                  42556.832391    43441.577391  46213.987333   \n",
       "ADMINISTRATIVE ANALYST         64312.000513    64543.497949  64920.955294   \n",
       "AIRPORT POLICE SERVICES AIDE   49780.150345    57998.895000  52180.554167   \n",
       "ASR Senior Office Specialist   60577.726512    62563.650930  61041.301111   \n",
       "ASSISTANT ENGINEER             80079.541111    80689.304815  83160.205227   \n",
       "\n",
       "                              MaleTotalPay  \n",
       "JobTitle                                    \n",
       "ACCOUNT CLERK                 46650.336667  \n",
       "ADMINISTRATIVE ANALYST        65811.110000  \n",
       "AIRPORT POLICE SERVICES AIDE  61626.364688  \n",
       "ASR Senior Office Specialist  62685.674444  \n",
       "ASSISTANT ENGINEER            84712.798864  "
      ],
      "text/html": "<div>\n<style scoped>\n    .dataframe tbody tr th:only-of-type {\n        vertical-align: middle;\n    }\n\n    .dataframe tbody tr th {\n        vertical-align: top;\n    }\n\n    .dataframe thead th {\n        text-align: right;\n    }\n</style>\n<table border=\"1\" class=\"dataframe\">\n  <thead>\n    <tr style=\"text-align: right;\">\n      <th></th>\n      <th>FemaleBasePay</th>\n      <th>FemaleTotalPay</th>\n      <th>MaleBasePay</th>\n      <th>MaleTotalPay</th>\n    </tr>\n    <tr>\n      <th>JobTitle</th>\n      <th></th>\n      <th></th>\n      <th></th>\n      <th></th>\n    </tr>\n  </thead>\n  <tbody>\n    <tr>\n      <th>ACCOUNT CLERK</th>\n      <td>42556.832391</td>\n      <td>43441.577391</td>\n      <td>46213.987333</td>\n      <td>46650.336667</td>\n    </tr>\n    <tr>\n      <th>ADMINISTRATIVE ANALYST</th>\n      <td>64312.000513</td>\n      <td>64543.497949</td>\n      <td>64920.955294</td>\n      <td>65811.110000</td>\n    </tr>\n    <tr>\n      <th>AIRPORT POLICE SERVICES AIDE</th>\n      <td>49780.150345</td>\n      <td>57998.895000</td>\n      <td>52180.554167</td>\n      <td>61626.364688</td>\n    </tr>\n    <tr>\n      <th>ASR Senior Office Specialist</th>\n      <td>60577.726512</td>\n      <td>62563.650930</td>\n      <td>61041.301111</td>\n      <td>62685.674444</td>\n    </tr>\n    <tr>\n      <th>ASSISTANT ENGINEER</th>\n      <td>80079.541111</td>\n      <td>80689.304815</td>\n      <td>83160.205227</td>\n      <td>84712.798864</td>\n    </tr>\n  </tbody>\n</table>\n</div>"
     },
     "metadata": {},
     "execution_count": 48
    }
   ],
   "source": [
    "\n",
    "salary_by_gender = pd.merge(f_job_salaries, m_job_salaries, on='JobTitle')\n",
    "salary_by_gender.columns = ['FemaleBasePay', 'FemaleTotalPay', 'MaleBasePay', 'MaleTotalPay']\n",
    "salary_by_gender.head()"
   ]
  },
  {
   "cell_type": "code",
   "execution_count": 49,
   "metadata": {},
   "outputs": [
    {
     "output_type": "execute_result",
     "data": {
      "text/plain": [
       "                              FemaleBasePay  FemaleTotalPay   MaleBasePay  \\\n",
       "JobTitle                                                                    \n",
       "ACCOUNT CLERK                  42556.832391    43441.577391  46213.987333   \n",
       "ADMINISTRATIVE ANALYST         64312.000513    64543.497949  64920.955294   \n",
       "AIRPORT POLICE SERVICES AIDE   49780.150345    57998.895000  52180.554167   \n",
       "ASR Senior Office Specialist   60577.726512    62563.650930  61041.301111   \n",
       "ASSISTANT ENGINEER             80079.541111    80689.304815  83160.205227   \n",
       "\n",
       "                              MaleTotalPay  BasePayProp  TotalPayProp  \n",
       "JobTitle                                                               \n",
       "ACCOUNT CLERK                 46650.336667    92.086476     93.121680  \n",
       "ADMINISTRATIVE ANALYST        65811.110000    99.062006     98.073863  \n",
       "AIRPORT POLICE SERVICES AIDE  61626.364688    95.399812     94.113770  \n",
       "ASR Senior Office Specialist  62685.674444    99.240556     99.805341  \n",
       "ASSISTANT ENGINEER            84712.798864    96.295507     95.250430  "
      ],
      "text/html": "<div>\n<style scoped>\n    .dataframe tbody tr th:only-of-type {\n        vertical-align: middle;\n    }\n\n    .dataframe tbody tr th {\n        vertical-align: top;\n    }\n\n    .dataframe thead th {\n        text-align: right;\n    }\n</style>\n<table border=\"1\" class=\"dataframe\">\n  <thead>\n    <tr style=\"text-align: right;\">\n      <th></th>\n      <th>FemaleBasePay</th>\n      <th>FemaleTotalPay</th>\n      <th>MaleBasePay</th>\n      <th>MaleTotalPay</th>\n      <th>BasePayProp</th>\n      <th>TotalPayProp</th>\n    </tr>\n    <tr>\n      <th>JobTitle</th>\n      <th></th>\n      <th></th>\n      <th></th>\n      <th></th>\n      <th></th>\n      <th></th>\n    </tr>\n  </thead>\n  <tbody>\n    <tr>\n      <th>ACCOUNT CLERK</th>\n      <td>42556.832391</td>\n      <td>43441.577391</td>\n      <td>46213.987333</td>\n      <td>46650.336667</td>\n      <td>92.086476</td>\n      <td>93.121680</td>\n    </tr>\n    <tr>\n      <th>ADMINISTRATIVE ANALYST</th>\n      <td>64312.000513</td>\n      <td>64543.497949</td>\n      <td>64920.955294</td>\n      <td>65811.110000</td>\n      <td>99.062006</td>\n      <td>98.073863</td>\n    </tr>\n    <tr>\n      <th>AIRPORT POLICE SERVICES AIDE</th>\n      <td>49780.150345</td>\n      <td>57998.895000</td>\n      <td>52180.554167</td>\n      <td>61626.364688</td>\n      <td>95.399812</td>\n      <td>94.113770</td>\n    </tr>\n    <tr>\n      <th>ASR Senior Office Specialist</th>\n      <td>60577.726512</td>\n      <td>62563.650930</td>\n      <td>61041.301111</td>\n      <td>62685.674444</td>\n      <td>99.240556</td>\n      <td>99.805341</td>\n    </tr>\n    <tr>\n      <th>ASSISTANT ENGINEER</th>\n      <td>80079.541111</td>\n      <td>80689.304815</td>\n      <td>83160.205227</td>\n      <td>84712.798864</td>\n      <td>96.295507</td>\n      <td>95.250430</td>\n    </tr>\n  </tbody>\n</table>\n</div>"
     },
     "metadata": {},
     "execution_count": 49
    }
   ],
   "source": [
    "# merging the two dfs together to compare pay differenes between gender for the same job\n",
    "salary_by_gender['BasePayProp']= (salary_by_gender['FemaleBasePay'] *100 )/ salary_by_gender['MaleBasePay']\n",
    "salary_by_gender['TotalPayProp'] = (salary_by_gender['FemaleTotalPay'] *100 )/ salary_by_gender['MaleTotalPay']\n",
    "salary_by_gender.head()\n",
    "\n"
   ]
  },
  {
   "cell_type": "code",
   "execution_count": 50,
   "metadata": {},
   "outputs": [],
   "source": [
    "#change gender to binary variables\n",
    "# from sklearn.preprocessing import LabelEncoder\n",
    "# labelencoder = LabelEncoder()\n",
    "\n",
    "# data['Gender'] = labelencoder.fit_transform(data['Gender'])\n"
   ]
  },
  {
   "cell_type": "code",
   "execution_count": 64,
   "metadata": {},
   "outputs": [
    {
     "output_type": "execute_result",
     "data": {
      "text/plain": [
       "        Name                            JobTitle    BasePay OvertimePay  \\\n",
       "22    GEORGE           CAPTAIN, FIRE SUPPRESSION  140546.88    93200.58   \n",
       "24    JOSEPH           CAPTAIN, FIRE SUPPRESSION  140546.86    97868.77   \n",
       "26      JOHN           CAPTAIN, FIRE SUPPRESSION   92080.80     40008.0   \n",
       "33      JOHN  INSPECTOR III, (POLICE DEPARTMENT)  104861.39    50227.61   \n",
       "37     JAMES  INSPECTOR III, (POLICE DEPARTMENT)  110661.20    31162.04   \n",
       "..       ...                                 ...        ...         ...   \n",
       "563   MAGALY                         FIREFIGHTER  105934.68    58392.63   \n",
       "564    ELISA                       NURSE MANAGER  170596.03         0.0   \n",
       "566     JACK                         FIREFIGHTER  105934.66    59761.06   \n",
       "568    SUSAN         SENIOR PHYSICIAN SPECIALIST  159624.81         0.0   \n",
       "569  HERBERT                  POLICE OFFICER III  112401.11     11784.8   \n",
       "\n",
       "      OtherPay   TotalPay  TotalPayBenefits  Gender  \n",
       "22    39955.25  273702.71         273702.71    male  \n",
       "24    31909.28  270324.91         270324.91    male  \n",
       "26   133695.76  265784.56         265784.56    male  \n",
       "33   103499.39  258588.39         258588.39    male  \n",
       "37    111446.2  253269.44         253269.44    male  \n",
       "..         ...        ...               ...     ...  \n",
       "563   19409.94  183737.25         183737.25  female  \n",
       "564   13060.81  183656.84         183656.84  female  \n",
       "566   17944.28  183640.00         183640.00    male  \n",
       "568   23943.72  183568.53         183568.53  female  \n",
       "569   59346.05  183531.96         183531.96    male  \n",
       "\n",
       "[250 rows x 8 columns]"
      ],
      "text/html": "<div>\n<style scoped>\n    .dataframe tbody tr th:only-of-type {\n        vertical-align: middle;\n    }\n\n    .dataframe tbody tr th {\n        vertical-align: top;\n    }\n\n    .dataframe thead th {\n        text-align: right;\n    }\n</style>\n<table border=\"1\" class=\"dataframe\">\n  <thead>\n    <tr style=\"text-align: right;\">\n      <th></th>\n      <th>Name</th>\n      <th>JobTitle</th>\n      <th>BasePay</th>\n      <th>OvertimePay</th>\n      <th>OtherPay</th>\n      <th>TotalPay</th>\n      <th>TotalPayBenefits</th>\n      <th>Gender</th>\n    </tr>\n  </thead>\n  <tbody>\n    <tr>\n      <th>22</th>\n      <td>GEORGE</td>\n      <td>CAPTAIN, FIRE SUPPRESSION</td>\n      <td>140546.88</td>\n      <td>93200.58</td>\n      <td>39955.25</td>\n      <td>273702.71</td>\n      <td>273702.71</td>\n      <td>male</td>\n    </tr>\n    <tr>\n      <th>24</th>\n      <td>JOSEPH</td>\n      <td>CAPTAIN, FIRE SUPPRESSION</td>\n      <td>140546.86</td>\n      <td>97868.77</td>\n      <td>31909.28</td>\n      <td>270324.91</td>\n      <td>270324.91</td>\n      <td>male</td>\n    </tr>\n    <tr>\n      <th>26</th>\n      <td>JOHN</td>\n      <td>CAPTAIN, FIRE SUPPRESSION</td>\n      <td>92080.80</td>\n      <td>40008.0</td>\n      <td>133695.76</td>\n      <td>265784.56</td>\n      <td>265784.56</td>\n      <td>male</td>\n    </tr>\n    <tr>\n      <th>33</th>\n      <td>JOHN</td>\n      <td>INSPECTOR III, (POLICE DEPARTMENT)</td>\n      <td>104861.39</td>\n      <td>50227.61</td>\n      <td>103499.39</td>\n      <td>258588.39</td>\n      <td>258588.39</td>\n      <td>male</td>\n    </tr>\n    <tr>\n      <th>37</th>\n      <td>JAMES</td>\n      <td>INSPECTOR III, (POLICE DEPARTMENT)</td>\n      <td>110661.20</td>\n      <td>31162.04</td>\n      <td>111446.2</td>\n      <td>253269.44</td>\n      <td>253269.44</td>\n      <td>male</td>\n    </tr>\n    <tr>\n      <th>...</th>\n      <td>...</td>\n      <td>...</td>\n      <td>...</td>\n      <td>...</td>\n      <td>...</td>\n      <td>...</td>\n      <td>...</td>\n      <td>...</td>\n    </tr>\n    <tr>\n      <th>563</th>\n      <td>MAGALY</td>\n      <td>FIREFIGHTER</td>\n      <td>105934.68</td>\n      <td>58392.63</td>\n      <td>19409.94</td>\n      <td>183737.25</td>\n      <td>183737.25</td>\n      <td>female</td>\n    </tr>\n    <tr>\n      <th>564</th>\n      <td>ELISA</td>\n      <td>NURSE MANAGER</td>\n      <td>170596.03</td>\n      <td>0.0</td>\n      <td>13060.81</td>\n      <td>183656.84</td>\n      <td>183656.84</td>\n      <td>female</td>\n    </tr>\n    <tr>\n      <th>566</th>\n      <td>JACK</td>\n      <td>FIREFIGHTER</td>\n      <td>105934.66</td>\n      <td>59761.06</td>\n      <td>17944.28</td>\n      <td>183640.00</td>\n      <td>183640.00</td>\n      <td>male</td>\n    </tr>\n    <tr>\n      <th>568</th>\n      <td>SUSAN</td>\n      <td>SENIOR PHYSICIAN SPECIALIST</td>\n      <td>159624.81</td>\n      <td>0.0</td>\n      <td>23943.72</td>\n      <td>183568.53</td>\n      <td>183568.53</td>\n      <td>female</td>\n    </tr>\n    <tr>\n      <th>569</th>\n      <td>HERBERT</td>\n      <td>POLICE OFFICER III</td>\n      <td>112401.11</td>\n      <td>11784.8</td>\n      <td>59346.05</td>\n      <td>183531.96</td>\n      <td>183531.96</td>\n      <td>male</td>\n    </tr>\n  </tbody>\n</table>\n<p>250 rows × 8 columns</p>\n</div>"
     },
     "metadata": {},
     "execution_count": 64
    }
   ],
   "source": [
    "# salary_by_gender.to_csv('salary_by_gender.csv')\n",
    "# female_salary.to_csv('female_salary.csv')\n",
    "# male_salary.to_csv('male_salary.csv')\n",
    "# data.to_csv('full_table.csv')\n",
    "data.head(250)"
   ]
  }
 ]
}